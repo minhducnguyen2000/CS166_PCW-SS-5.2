{
 "cells": [
  {
   "cell_type": "markdown",
   "metadata": {},
   "source": [
    "### Exercise 8: Random walk with drift"
   ]
  },
  {
   "cell_type": "code",
   "execution_count": 3,
   "metadata": {},
   "outputs": [],
   "source": [
    "import random\n",
    "import numpy as np\n",
    "import scipy.stats as sts\n",
    "import math\n",
    "import matplotlib.pyplot as plt"
   ]
  },
  {
   "cell_type": "code",
   "execution_count": 37,
   "metadata": {},
   "outputs": [
    {
     "name": "stdout",
     "output_type": "stream",
     "text": [
      "The final position is 2\n"
     ]
    },
    {
     "data": {
      "text/plain": [
       "[<matplotlib.lines.Line2D at 0x7f813a25ae80>]"
      ]
     },
     "execution_count": 37,
     "metadata": {},
     "output_type": "execute_result"
    },
    {
     "data": {
      "image/png": "[encoded data removed]",
      "text/plain": [
       "<Figure size 432x288 with 1 Axes>"
      ]
     },
     "metadata": {
      "needs_background": "light"
     },
     "output_type": "display_data"
    }
   ],
   "source": [
    "def flip(p):\n",
    "    move = 0\n",
    "    if random.random() < p:\n",
    "        move = 1\n",
    "    else:\n",
    "        move = -1\n",
    "    return move\n",
    "number_of_step = 30\n",
    "flips = []\n",
    "position = 0\n",
    "for i in range(number_of_step):\n",
    "    position = position + flip(0.6)\n",
    "    flips.append(position)\n",
    "print(\"The final position is\", flips[-1])\n",
    "plt.plot(list(range(number_of_step)),flips)"
   ]
  },
  {
   "cell_type": "code",
   "execution_count": 19,
   "metadata": {},
   "outputs": [
    {
     "name": "stdout",
     "output_type": "stream",
     "text": [
      "[2, 8, 10, 8, 16, -12, 18, 12, 0, 6, 4, 8, 10, 0, 10, 2, 0, 8, 14, 0, 6, 4, 4, 2, 6, 12, 2, 6, 4, 10, 8, 0, 8, 2, 10, 6, 0, 18, 0, 6, 0, 4, 6, 6, 6, 6, 20, -6, 4, 12, 8, 14, 6, 6, 2, 4, 4, 4, 2, 8, 8, 10, 10, 6, -4, 10, 10, 6, 8, 4, 4, 10, 6, 14, 0, 10, 10, 12, 4, 16, -4, 0, 8, 14, -2, 8, 12, 2, 8, 4, 18, 4, 10, 8, 4, 6, 4, 10, 6, 10, -2, 8, 8, 0, 6, 14, 8, 6, 12, 6, 12, 2, 2, 10, 10, 4, 8, 6, 2, 8, 8, 14, 12, 10, 4, 10, 14, 10, 8, -10, 6, 2, 10, 6, 2, 12, 0, 6, 10, 2, 12, 6, 14, 12, 2, 10, 10, 12, 4, 0, 14, 16, -4, 10, 6, 4, 4, 2, 0, 4, 4, 2, 0, 8, 2, 16, 8, 10, 14, 4, 10, 12, 2, 2, 12, 8, -4, 8, 12, 6, 14, 0, 6, 10, 8, 4, 8, 10, 2, 4, 8, 4, 4, 6, 12, 12, 6, 6, 14, 10]\n"
     ]
    },
    {
     "data": {
      "text/plain": [
       "(array([ 2.,  1.,  4., 18., 21., 59., 58., 17., 16.,  4.]),\n",
       " array([-12. ,  -8.8,  -5.6,  -2.4,   0.8,   4. ,   7.2,  10.4,  13.6,\n",
       "         16.8,  20. ]),\n",
       " <a list of 10 Patch objects>)"
      ]
     },
     "execution_count": 19,
     "metadata": {},
     "output_type": "execute_result"
    },
    {
     "data": {
      "image/png": "[encoded data removed]",
      "text/plain": [
       "<Figure size 432x288 with 1 Axes>"
      ]
     },
     "metadata": {
      "needs_background": "light"
     },
     "output_type": "display_data"
    }
   ],
   "source": [
    "N = 200\n",
    "final_position_list = []\n",
    "for j in range(N):\n",
    "    position = 0\n",
    "    for i in range(number_of_step):\n",
    "        position = position + flip(0.6)\n",
    "    final_position_list.append(position)\n",
    "print(final_position_list)\n",
    "plt.hist(final_position_list)"
   ]
  },
  {
   "cell_type": "code",
   "execution_count": 20,
   "metadata": {},
   "outputs": [
    {
     "name": "stdout",
     "output_type": "stream",
     "text": [
      "The sample mean is 6.63\n"
     ]
    }
   ],
   "source": [
    "print(\"The sample mean is\", np.mean(final_position_list))"
   ]
  },
  {
   "cell_type": "code",
   "execution_count": 23,
   "metadata": {},
   "outputs": [
    {
     "name": "stdout",
     "output_type": "stream",
     "text": [
      "The variance is 4.440892098500626e-16\n"
     ]
    }
   ],
   "source": [
    "print(\"The variance is\", np.sum([(i-np.mean(final_position_list)) for i in final_position_list])/N)"
   ]
  },
  {
   "cell_type": "markdown",
   "metadata": {},
   "source": [
    "### Exercise 9: Gambler’s ruin with time limits"
   ]
  },
  {
   "cell_type": "code",
   "execution_count": 38,
   "metadata": {},
   "outputs": [],
   "source": [
    "def gambler_ruin(limit, gambler, house):\n",
    "    gambler_fortunes = [gambler]\n",
    "    while gambler_fortunes[-1] > 0 and gambler_fortunes[-1] < (gambler + house):\n",
    "        if limit and len(gambler_fortunes) == limit:\n",
    "            break\n",
    "        w = random.choice([-1, 1])\n",
    "        gambler_fortunes.append(gambler_fortunes[-1] + w)\n",
    "    return gambler_fortunes\n"
   ]
  },
  {
   "cell_type": "code",
   "execution_count": 39,
   "metadata": {},
   "outputs": [
    {
     "name": "stdout",
     "output_type": "stream",
     "text": [
      "5266.689969604863 5577631.916039209\n"
     ]
    },
    {
     "data": {
      "text/plain": [
       "(array([21., 33., 37., 46., 48., 34., 32., 29., 25., 24.]),\n",
       " array([ 913. , 1820.8, 2728.6, 3636.4, 4544.2, 5452. , 6359.8, 7267.6,\n",
       "        8175.4, 9083.2, 9991. ]),\n",
       " <a list of 10 Patch objects>)"
      ]
     },
     "execution_count": 39,
     "metadata": {},
     "output_type": "execute_result"
    },
    {
     "data": {
      "image/png": "[encoded data removed]",
      "text/plain": [
       "<Figure size 432x288 with 1 Axes>"
      ]
     },
     "metadata": {
      "needs_background": "light"
     },
     "output_type": "display_data"
    }
   ],
   "source": [
    "bankruptcy = []\n",
    "for i in range(1000):\n",
    "    arr = gambler_ruin(10000, 100, 200)\n",
    "    if arr[-1] == 0:\n",
    "        bankruptcy.append(len(arr))\n",
    "print(np.mean(bankruptcy), np.var(bankruptcy))\n",
    "plt.hist(bankruptcy)"
   ]
  },
  {
   "cell_type": "code",
   "execution_count": 40,
   "metadata": {},
   "outputs": [
    {
     "name": "stdout",
     "output_type": "stream",
     "text": [
      "16442.754977029097 277093514.1329193\n"
     ]
    },
    {
     "data": {
      "text/plain": [
       "(array([347., 150.,  79.,  31.,  14.,  19.,   7.,   2.,   1.,   3.]),\n",
       " array([   919. ,  11800.2,  22681.4,  33562.6,  44443.8,  55325. ,\n",
       "         66206.2,  77087.4,  87968.6,  98849.8, 109731. ]),\n",
       " <a list of 10 Patch objects>)"
      ]
     },
     "execution_count": 40,
     "metadata": {},
     "output_type": "execute_result"
    },
    {
     "data": {
      "image/png": "[encoded data removed]",
      "text/plain": [
       "<Figure size 432x288 with 1 Axes>"
      ]
     },
     "metadata": {
      "needs_background": "light"
     },
     "output_type": "display_data"
    }
   ],
   "source": [
    "bankruptcy = []\n",
    "for i in range(1000):\n",
    "    arr = gambler_ruin(None, 100, 200)\n",
    "    if arr[-1] == 0:\n",
    "        bankruptcy.append(len(arr))\n",
    "\n",
    "print(np.mean(bankruptcy), np.var(bankruptcy))\n",
    "plt.hist(bankruptcy)"
   ]
  },
  {
   "cell_type": "code",
   "execution_count": null,
   "metadata": {},
   "outputs": [],
   "source": []
  }
 ],
 "metadata": {
  "kernelspec": {
   "display_name": "Python 3",
   "language": "python",
   "name": "python3"
  },
  "language_info": {
   "codemirror_mode": {
    "name": "ipython",
    "version": 3
   },
   "file_extension": ".py",
   "mimetype": "text/x-python",
   "name": "python",
   "nbconvert_exporter": "python",
   "pygments_lexer": "ipython3",
   "version": "3.7.3"
  }
 },
 "nbformat": 4,
 "nbformat_minor": 2
}
